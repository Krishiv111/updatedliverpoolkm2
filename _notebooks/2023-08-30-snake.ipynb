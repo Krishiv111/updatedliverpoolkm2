{
 "cells": [
  {
   "cell_type": "markdown",
   "metadata": {},
   "source": [
    "---\n",
    "comments: true\n",
    "layout: post\n",
    "title: Krishiv's Snake Game\n",
    "description: A key to development in this class is the association VSCode to a GitHub pages project.  This is where students update assignments and present work.\n",
    "type: hacks\n",
    "courses: { lab: {week: 1}}\n",
    "\n",
    "---"
   ]
  },
  {
   "cell_type": "code",
   "execution_count": null,
   "metadata": {
    "vscode": {
     "languageId": "html"
    }
   },
   "outputs": [],
   "source": [
    "\n",
    "<html>\n",
    "<head>\n",
    "    <h1>Calculator</h1>\n",
    "</head>\n",
    "<body>\n",
    "    <div id=\"calculator\">\n",
    "        <input type=\"text\" id=\"display\" disabled><!-- THis sets the button as text and id is to identify specific parameters, disable is used so you cant type in the calculator by text -->\n",
    "        <button onclick=\"setattributes('1')\">1</button> <!-- First set the button and call the function append to display, then sets the attribute at 1 and when the button 1 is clicked then the append to display is called, when the button is clicked the set attribute function is called and takes the value/attribute linked to that specific value.  -->\n",
    "        <button onclick=\"setattributes('2')\">2</button>\n",
    "        <button onclick=\"setattributes('3')\">3</button>\n",
    "        <button onclick=\"setattributes('4')\">4</button>\n",
    "        <button onclick=\"setattributes('5')\">5</button>\n",
    "        <button onclick=\"setattributes('6')\">6</button>\n",
    "        <button onclick=\"setattributes('7')\">7</button>\n",
    "        <button onclick=\"setattributes('8')\">8</button>\n",
    "        <button onclick=\"setattributes('9')\">9</button>\n",
    "        <button onclick=\"setattributes('0')\">0</button>\n",
    "        <button onclick=\"setattributes('+')\">+</button>\n",
    "         <button onclick=\"setattributes('-')\">-</button>\n",
    "        <button onclick=\"setattributes('*')\">*</button>\n",
    "        <button onclick=\"setattributes('/')\">/</button>\n",
    "        <button onclick=\"clearDisplay()\">C</button> <!-- This is a way to clear, how it works is when this button is clicked the clear display function is called it then sets the value displayed to an empty string clearing any previous inputs, then it gets the value by id and clear all of the attributes from the calculator.  -->\n",
    "        <button onclick=\"calculate()\">=</button> <!-- This is a single-line HTML comment -->\n",
    "    </div>\n",
    "    <script> let displayValue = \"\"; // This lets the display value == nothing\n",
    "function setattributes(value) {\n",
    "    displayValue += value;\n",
    "    document.getElementById(\"display\").value = displayValue; // display value is the way to keep track of the function so if you input 1+2 it converts to a string and you get \"1\" \"+\" \"2\"\n",
    "}\n",
    "function clearDisplay() {\n",
    "    displayValue = \"\";// This removes the value that was stored previously from the other time you inputted something. \n",
    "    document.getElementById(\"display\").value = \"\";\n",
    "}\n",
    "function calculate() {\n",
    "    try {\n",
    "        const result = eval(displayValue); // eval() is a js function for math operation, so when you enter those numbers in this will allow you to get an answer becuase it is set in js, so it evaluates the attributes of the numbers that are inputted. \n",
    "        document.getElementById(\"display\").value = result;\n",
    "        displayValue = result.toString(); // Converts Number into String\n",
    "    } catch (error) {\n",
    "        document.getElementById(\"display\").value = \"Error\";// THis error is used to understand if the values inputted are math expressions and if they arent then it displays - \n",
    "        displayValue = \"\"; //however if the catch goes through and you are able to evaluate the error then it means that an error is not present and the value can be displayed.\n",
    "    }\n",
    "}\n",
    "</script>\n",
    " <style>\n",
    "        #calculator { /* The # Refers to the id of the calculator set in the button to style it  */\n",
    "            width: 300px;\n",
    "            margin: 0 auto;\n",
    "            text-align: center;\n",
    "            display: flex;/* This is a way to set the buttons in a row */\n",
    "            flex-wrap: wrap; /* This is to rap around if the size is too big */\n",
    "            justify-content: center;\n",
    "        }\n",
    "        #calculator button {\n",
    "            width: 60px;\n",
    "            height: 60px;\n",
    "            margin: 5px;\n",
    "            background-color:  #0074D9; \n",
    "            border: none;\n",
    "            color: white;\n",
    "            font-size: 18px;\n",
    "        }\n",
    "        #calculator button:hover {\n",
    "            background-color: #45a049; \n",
    "        }\n",
    "    </style>\n",
    "</body>\n",
    "</html>\n"
   ]
  }
 ],
 "metadata": {
  "language_info": {
   "name": "python"
  },
  "orig_nbformat": 4
 },
 "nbformat": 4,
 "nbformat_minor": 2
}
