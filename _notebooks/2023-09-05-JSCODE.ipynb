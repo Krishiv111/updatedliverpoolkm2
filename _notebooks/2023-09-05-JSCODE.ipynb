{
 "cells": [
  {
   "cell_type": "markdown",
   "metadata": {},
   "source": [
    "---\n",
    "title: JavaScript Code Explained\n",
    "toc: true\n",
    "description: A cell by cell \n",
    "courses: { csa: {week: 3} }\n",
    "type: tangibles\n",
    "---"
   ]
  }
 ],
 "metadata": {
  "language_info": {
   "name": "python"
  },
  "orig_nbformat": 4
 },
 "nbformat": 4,
 "nbformat_minor": 2
}
