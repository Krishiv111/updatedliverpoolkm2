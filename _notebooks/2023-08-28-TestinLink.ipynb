{
 "cells": [
  {
   "cell_type": "markdown",
   "metadata": {},
   "source": [
    "---\n",
    "comments: true\n",
    "layout: post\n",
    "title: Krishiv's Week 2 Plan\n",
    "type: plans\n",
    "courses: { csa: {week: 2} }\n",
    "\n",
    "---"
   ]
  },
  {
   "cell_type": "markdown",
   "metadata": {},
   "source": [
    "# Summary From Live Review \n",
    "- Update Lab Notebook From Static to Frontmatter \n",
    "- Keep up on setting plans and goals from the week\n",
    "- Make sure that theme is working\n"
   ]
  },
  {
   "cell_type": "markdown",
   "metadata": {},
   "source": [
    "# Monday\n",
    "### Goals: \n",
    "- Get Java To Work\n",
    "- Understand Lab Notebook\n",
    "- Fix YML file\n",
    "\n",
    "#### Summary\n",
    "- Today I was able to fix all my yml file and gain a better understanding of the lab notebook and linking everything together. However I had issues with java as I had an installation problem due to the fact that my JDK wasnt working correctly\n",
    "\n",
    "\n",
    "# Tuesday\n",
    "- Fix Java Error \n",
    "- Get Lab NB automated and make sure its linked through liquid and jekyll\n",
    "- Start on Java Classes\n",
    "\n",
    "#### Summary \n",
    "- Today I was able to fix my java with mr mort as he helped me fix my jdk and notebook, in addition to that I learned more about the liquid behind the lab notebook and the frontmatter to undertstanad how you get to fix this I wasn't able to get to my java classes today\n",
    "\n",
    "\n",
    "# Wednesday \n",
    "- Customize lab notebook\n",
    "- Java Hacks \n",
    "- Get Github Pages Running \n",
    "\n",
    "# Summary \n",
    "- Today I was able to get my github pages running, i made my lab notebook in more of a table form and I deployed my page via github.io. I got to java hacks but only read the requirements and wasn't able to get coding today. \n",
    "\n",
    "# Thursday \n",
    "- Java Hello \n",
    "- Java Console Games \n",
    "\n",
    "# Summary \n",
    "I was able to get my java hacks started and decided on a class based on soccer. However I want to get a better understanding of what the classes represent within code."
   ]
  }
 ],
 "metadata": {
  "language_info": {
   "name": "python"
  },
  "orig_nbformat": 4
 },
 "nbformat": 4,
 "nbformat_minor": 2
}
